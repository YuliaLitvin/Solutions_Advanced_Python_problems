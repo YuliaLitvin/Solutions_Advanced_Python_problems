{
 "cells": [
  {
   "cell_type": "markdown",
   "id": "a50aa041",
   "metadata": {},
   "source": [
    "### Напишіть програму, яка зчитує послідовність із 10 цілих чисел і визначає чи є кожне з них парним чи ні."
   ]
  },
  {
   "cell_type": "code",
   "execution_count": 3,
   "id": "36f0dff1",
   "metadata": {},
   "outputs": [
    {
     "name": "stdout",
     "output_type": "stream",
     "text": [
      "3\n",
      "5\n",
      "7\n",
      "22\n",
      "11\n",
      "6\n",
      "9\n",
      "10\n",
      "13\n",
      "15\n",
      "NO\n"
     ]
    }
   ],
   "source": [
    "numb = 0\n",
    "\n",
    "for i in range(1, 11):\n",
    "    a = int(input())\n",
    "    if a % 2 == 0:\n",
    "        numb += 1\n",
    "\n",
    "if numb == 10:\n",
    "    print(\"YES\")\n",
    "else:\n",
    "    print(\"NO\")"
   ]
  },
  {
   "cell_type": "markdown",
   "id": "1137c845",
   "metadata": {},
   "source": [
    "### На вхід програмі подається натуральне число n, а потім n різних натуральних чисел послідовності, кожне на окремому рядку. Напишіть програму, яка виводить найбільше та друге найбільше число послідовності."
   ]
  },
  {
   "cell_type": "code",
   "execution_count": 5,
   "id": "0b9aefde",
   "metadata": {},
   "outputs": [
    {
     "name": "stdout",
     "output_type": "stream",
     "text": [
      "5\n",
      "34\n",
      "56\n",
      "87\n",
      "98\n",
      "2\n",
      "Найбільше число - 98\n",
      "Друге найбільше число - 87\n"
     ]
    }
   ],
   "source": [
    "max1=0\n",
    "max2=1\n",
    "n = int(input())\n",
    "\n",
    "for i in range(1, n + 1):\n",
    "    num = int(input())\n",
    "    if num > max1:\n",
    "        max2 = max1\n",
    "        max1 = num\n",
    "    elif num > max2:\n",
    "        max2 = num\n",
    "print(f'Найбільше число - {max1}')\n",
    "print(f'Друге найбільше число - {max2}')"
   ]
  },
  {
   "cell_type": "markdown",
   "id": "a39275ba",
   "metadata": {},
   "source": [
    "### Всім відомо, що відьмак здатний здолати будь-які потвори, проте його послуги обійдуться недешево. До того ж відьмак не приймає купюри, він приймає лише карбовані монети. У світі відьмака існують монети з номіналами 1, 5, 10, 25"
   ]
  },
  {
   "cell_type": "code",
   "execution_count": 6,
   "id": "96c8ae55",
   "metadata": {},
   "outputs": [
    {
     "name": "stdout",
     "output_type": "stream",
     "text": [
      "37\n",
      "4\n"
     ]
    }
   ],
   "source": [
    "n = int(input())\n",
    "count = 0\n",
    "while n >= 25:\n",
    "    count += 1\n",
    "    n = n - 25\n",
    "while n >= 10:\n",
    "    count += 1\n",
    "    n = n - 10\n",
    "while n >= 5:\n",
    "    count += 1\n",
    "    n = n - 5\n",
    "while n >= 1:\n",
    "    count += 1\n",
    "    n = n - 1\n",
    "print(count)"
   ]
  },
  {
   "cell_type": "markdown",
   "id": "09935311",
   "metadata": {},
   "source": [
    "### Дано натуральне число. Напишіть програму, яка визначає, чи є послідовність його цифр під час перегляду праворуч наліво впорядкованою через незменшення."
   ]
  },
  {
   "cell_type": "code",
   "execution_count": 7,
   "id": "cc6a6a5e",
   "metadata": {},
   "outputs": [
    {
     "name": "stdout",
     "output_type": "stream",
     "text": [
      "5321\n",
      "YES\n"
     ]
    }
   ],
   "source": [
    "a = int(input())\n",
    "flag = True\n",
    "s = a % 10\n",
    "while a != 0:\n",
    "    n = a % 10\n",
    "    if n < s:\n",
    "        flag = False\n",
    "    else:\n",
    "        s = n\n",
    "    a = a // 10\n",
    "if flag == False:\n",
    "    print(\"NO\")\n",
    "else:\n",
    "    print(\"YES\")"
   ]
  },
  {
   "cell_type": "markdown",
   "id": "a6e84cc7",
   "metadata": {},
   "source": [
    "### На обробку надходить натуральне число. Потрібно написати програму, яка виводить на екран максимальну цифру числа, кратну 3. Якщо в числі немає цифр, кратних 3, потрібно вивести на екран «NO»."
   ]
  },
  {
   "cell_type": "code",
   "execution_count": 8,
   "id": "78e27231",
   "metadata": {},
   "outputs": [
    {
     "name": "stdout",
     "output_type": "stream",
     "text": [
      "45683549\n",
      "9\n"
     ]
    }
   ],
   "source": [
    "n = int(input())\n",
    "max_digit = -1\n",
    "while n > 0:\n",
    "    digit = n % 10\n",
    "    if digit % 3 == 0:\n",
    "        if digit > max_digit:\n",
    "            max_digit = digit\n",
    "    n = n // 10\n",
    "if max_digit == -1:\n",
    "    print('NO')\n",
    "else:\n",
    "    print(max_digit)"
   ]
  }
 ],
 "metadata": {
  "kernelspec": {
   "display_name": "Python 3 (ipykernel)",
   "language": "python",
   "name": "python3"
  },
  "language_info": {
   "codemirror_mode": {
    "name": "ipython",
    "version": 3
   },
   "file_extension": ".py",
   "mimetype": "text/x-python",
   "name": "python",
   "nbconvert_exporter": "python",
   "pygments_lexer": "ipython3",
   "version": "3.10.1"
  }
 },
 "nbformat": 4,
 "nbformat_minor": 5
}
