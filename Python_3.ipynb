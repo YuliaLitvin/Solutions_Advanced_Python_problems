{
 "cells": [
  {
   "cell_type": "markdown",
   "id": "ec369cdc",
   "metadata": {},
   "source": [
    "# <center>Завдання на списки</center>\n",
    "### №1\n",
    "Доповніть наведений код, використовуючи списковий метод append(), щоб список list1 мав вигляд:\n",
    "\n",
    "list1 = [10, 20, [300, 400, [5000, 6000, 7000], 500], 30, 40]"
   ]
  },
  {
   "cell_type": "code",
   "execution_count": 1,
   "id": "d43bfa4d",
   "metadata": {},
   "outputs": [
    {
     "name": "stdout",
     "output_type": "stream",
     "text": [
      "[10, 20, [300, 400, [5000, 6000, 7000], 500], 30, 40]\n"
     ]
    }
   ],
   "source": [
    "list1 = [10, 20, [300, 400, [5000, 6000], 500], 30, 40]\n",
    "list1[2][2].append(7000)\n",
    "\n",
    "print(list1)"
   ]
  },
  {
   "cell_type": "markdown",
   "id": "fad5f397",
   "metadata": {},
   "source": [
    "### №2\n",
    "Доповніть наведений код, використовуючи обліковий метод extend(), щоб список list1 мав вигляд:\n",
    "\n",
    "list1 = ['a', 'b', ['c', ['d', 'e', ['f', 'g', 'h', 'i', 'j'], 'k'], 'l'], 'm', 'n']"
   ]
  },
  {
   "cell_type": "code",
   "execution_count": 2,
   "id": "e9e064eb",
   "metadata": {},
   "outputs": [
    {
     "name": "stdout",
     "output_type": "stream",
     "text": [
      "['a', 'b', ['c', ['d', 'e', ['f', 'g', 'h', 'i', 'j'], 'k'], 'l'], 'm', 'n']\n"
     ]
    }
   ],
   "source": [
    "list1 = ['a', 'b', ['c', ['d', 'e', ['f', 'g'], 'k'], 'l'], 'm', 'n']\n",
    "sub_list = ['h', 'i', 'j']\n",
    "list1[2][1][2].extend(sub_list)\n",
    "\n",
    "print(list1)"
   ]
  },
  {
   "cell_type": "markdown",
   "id": "10f2bc75",
   "metadata": {},
   "source": [
    "### №3\n",
    "Доповніть наведений код, використовуючи цикл for і вбудовану функцію max(), щоб виводити один загальний максимальний елемент серед усіх елементів вкладених списків list1."
   ]
  },
  {
   "cell_type": "code",
   "execution_count": 3,
   "id": "56cbff7c",
   "metadata": {},
   "outputs": [
    {
     "name": "stdout",
     "output_type": "stream",
     "text": [
      "106\n"
     ]
    }
   ],
   "source": [
    "list1 = [[1, 7, 8], [9, 7, 102], [6, 106, 105], [100, 99, 98, 103], [1, 2, 3]]\n",
    "maximum = -1\n",
    "for i in list1:\n",
    "    if max(i) > maximum:\n",
    "        maximum = max(i)\n",
    "print(maximum)"
   ]
  },
  {
   "cell_type": "markdown",
   "id": "623482e7",
   "metadata": {},
   "source": [
    "### №4\n",
    "Доповніть наведений код так, щоб список list1 мав вигляд:\n",
    "\n",
    "list1 = [[8, 7, 1], [102, 7, 9], [105, 106, 102], [103, 98, 99, 100], [3, 2, 1]]"
   ]
  },
  {
   "cell_type": "code",
   "execution_count": 4,
   "id": "053f064e",
   "metadata": {},
   "outputs": [
    {
     "name": "stdout",
     "output_type": "stream",
     "text": [
      "[[8, 7, 1], [102, 7, 9], [105, 106, 102], [103, 98, 99, 100], [3, 2, 1]]\n"
     ]
    }
   ],
   "source": [
    "list1 = [[1, 7, 8], [9, 7, 102], [102, 106, 105], [100, 99, 98, 103], [1, 2, 3]]\n",
    "\n",
    "for i in list1:\n",
    "     i = i.reverse()\n",
    "\n",
    "print(list1)"
   ]
  },
  {
   "cell_type": "markdown",
   "id": "7da18227",
   "metadata": {},
   "source": [
    "### №5\n",
    "Доповніть наведений код так, щоб він виводив однину: суму всіх чисел списку list1 поділену на загальну кількість усіх чисел."
   ]
  },
  {
   "cell_type": "code",
   "execution_count": 5,
   "id": "4127b08b",
   "metadata": {},
   "outputs": [
    {
     "name": "stdout",
     "output_type": "stream",
     "text": [
      "53.3125\n"
     ]
    }
   ],
   "source": [
    "list1 = [[1, 7, 8], [9, 7, 102], [102, 106, 105], [100, 99, 98, 103], [1, 2, 3]]\n",
    "total = 0\n",
    "counter = 0\n",
    "\n",
    "\n",
    "for i in list1:\n",
    "    counter += len(i)\n",
    "    for j in i:\n",
    "        total += j\n",
    "\n",
    "print(total/counter)"
   ]
  }
 ],
 "metadata": {
  "kernelspec": {
   "display_name": "Python 3 (ipykernel)",
   "language": "python",
   "name": "python3"
  },
  "language_info": {
   "codemirror_mode": {
    "name": "ipython",
    "version": 3
   },
   "file_extension": ".py",
   "mimetype": "text/x-python",
   "name": "python",
   "nbconvert_exporter": "python",
   "pygments_lexer": "ipython3",
   "version": "3.10.1"
  }
 },
 "nbformat": 4,
 "nbformat_minor": 5
}
